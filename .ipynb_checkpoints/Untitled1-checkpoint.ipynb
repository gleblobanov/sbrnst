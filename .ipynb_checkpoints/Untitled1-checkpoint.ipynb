{
 "cells": [
  {
   "cell_type": "code",
   "execution_count": 1,
   "metadata": {},
   "outputs": [],
   "source": [
    "import search\n",
    "import matplotlib.pyplot as plt\n",
    "import numpy\n",
    "\n",
    "from nltk.text import Text"
   ]
  },
  {
   "cell_type": "markdown",
   "metadata": {},
   "source": []
  },
  {
   "cell_type": "code",
   "execution_count": 2,
   "metadata": {},
   "outputs": [],
   "source": [
    "\n",
    "def get_series(token_part, author):\n",
    "    res = {}\n",
    "    for year in range(1917, 2000):\n",
    "        try:\n",
    "            corpus = search.create_corpus(author, year)\n",
    "            text = Text(corpus.words())\n",
    "            corpus.fileids()\n",
    "            search_words = [w for w in text if w.startswith(token_part)]\n",
    "            res[year] = len(search_words)\n",
    "        except Exception:\n",
    "            pass\n",
    "    return res"
   ]
  },
  {
   "cell_type": "code",
   "execution_count": 7,
   "metadata": {},
   "outputs": [
    {
     "data": {
      "image/png": "[encoded data removed]",
      "text/plain": [
       "<Figure size 432x288 with 3 Axes>"
      ]
     },
     "metadata": {
      "needs_background": "light"
     },
     "output_type": "display_data"
    }
   ],
   "source": [
    "tokens = [\"собор\", \"социаб\", \"социальн\", \"общежит\", \"всеедин\"]\n",
    "\n",
    "# Гурвич\n",
    "\n",
    "gurvich1 = get_series(tokens[0], 1)\n",
    "gurvich2 = get_series(tokens[1], 1)\n",
    "gurvich3 = get_series(tokens[2], 1)\n",
    "gurvich4 = get_series(tokens[3], 1)\n",
    "gurvich5 = get_series(tokens[4], 1)\n",
    "\n",
    "# Алексеев\n",
    "\n",
    "alekseev1 = get_series(tokens[0], 2)\n",
    "alekseev2 = get_series(tokens[1], 2)\n",
    "alekseev3 = get_series(tokens[2], 2)\n",
    "alekseev4 = get_series(tokens[3], 2)\n",
    "alekseev5 = get_series(tokens[4], 2)\n",
    "\n",
    "# Гессен\n",
    "\n",
    "gessen1 = get_series(tokens[0], 3)\n",
    "gessen2 = get_series(tokens[1], 3)\n",
    "gessen3 = get_series(tokens[2], 3)\n",
    "gessen4 = get_series(tokens[3], 3)\n",
    "gessen5 = get_series(tokens[4], 3)\n",
    "\n",
    "\n",
    "fig, axs = plt.subplots(3)\n",
    "fig.suptitle('Графики частотности токенов с подстроками')\n",
    "\n",
    "axs[0].plot(gurvich1.keys(), gurvich1.values(), label = tokens[0])\n",
    "axs[0].plot(gurvich2.keys(), gurvich2.values(), label = tokens[1])\n",
    "axs[0].plot(gurvich3.keys(), gurvich3.values(), label = tokens[2])\n",
    "axs[0].plot(gurvich4.keys(), gurvich4.values(), label = tokens[3])\n",
    "axs[0].plot(gurvich5.keys(), gurvich5.values(), label = tokens[4])\n",
    "axs[0].legend()\n",
    "axs[0].axis([1917, 1950, 0, 60])\n",
    "axs[0].set_title('Гурвич')\n",
    "\n",
    "axs[0].plot(alekseev1.keys(), alekseev1.values(), label = tokens[0])\n",
    "axs[0].plot(alekseev2.keys(), alekseev2.values(), label = tokens[1])\n",
    "axs[0].plot(alekseev3.keys(), alekseev3.values(), label = tokens[2])\n",
    "axs[0].plot(alekseev4.keys(), alekseev4.values(), label = tokens[3])\n",
    "axs[0].plot(alekseev5.keys(), alekseev5.values(), label = tokens[4])\n",
    "axs[0].legend()\n",
    "axs[0].axis([1917, 1950, 0, 60])\n",
    "axs[1].set_title('Алексеев')\n",
    "\n",
    "axs[0].plot(gessen1.keys(), gessen1.values(), label = tokens[0])\n",
    "axs[0].plot(gessen2.keys(), gessen2.values(), label = tokens[1])\n",
    "axs[0].plot(gessen3.keys(), gessen3.values(), label = tokens[2])\n",
    "axs[0].plot(gessen4.keys(), gessen4.values(), label = tokens[3])\n",
    "axs[0].plot(gessen5.keys(), gessen5.values(), label = tokens[4])\n",
    "axs[0].legend()\n",
    "axs[0].axis([1917, 1950, 0, 60])\n",
    "axs[2].set_title('Гессен')\n",
    "\n",
    "plt.show()"
   ]
  },
  {
   "cell_type": "code",
   "execution_count": null,
   "metadata": {},
   "outputs": [],
   "source": []
  },
  {
   "cell_type": "code",
   "execution_count": null,
   "metadata": {},
   "outputs": [],
   "source": []
  }
 ],
 "metadata": {
  "kernelspec": {
   "display_name": "Python 3",
   "language": "python",
   "name": "python3"
  },
  "language_info": {
   "codemirror_mode": {
    "name": "ipython",
    "version": 3
   },
   "file_extension": ".py",
   "mimetype": "text/x-python",
   "name": "python",
   "nbconvert_exporter": "python",
   "pygments_lexer": "ipython3",
   "version": "3.8.5"
  }
 },
 "nbformat": 4,
 "nbformat_minor": 4
}
